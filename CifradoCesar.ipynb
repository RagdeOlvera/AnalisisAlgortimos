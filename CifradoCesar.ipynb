{
  "nbformat": 4,
  "nbformat_minor": 0,
  "metadata": {
    "colab": {
      "provenance": [],
      "collapsed_sections": [],
      "authorship_tag": "ABX9TyN3qVv2c8xJwZ74Z5B4xEXF",
      "include_colab_link": true
    },
    "kernelspec": {
      "name": "python3",
      "display_name": "Python 3"
    },
    "language_info": {
      "name": "python"
    }
  },
  "cells": [
    {
      "cell_type": "markdown",
      "metadata": {
        "id": "view-in-github",
        "colab_type": "text"
      },
      "source": [
        "<a href=\"https://colab.research.google.com/github/RagdeOlvera/AnalisisAlgortimos/blob/main/CifradoCesar.ipynb\" target=\"_parent\"><img src=\"https://colab.research.google.com/assets/colab-badge.svg\" alt=\"Open In Colab\"/></a>"
      ]
    },
    {
      "cell_type": "code",
      "execution_count": 47,
      "metadata": {
        "id": "EL0gkZN5ht-R"
      },
      "outputs": [],
      "source": [
        "#Función que abre y lee  cada linea del archivo \"textoCifrado\", regresando como resultado el archivo.\n",
        "def cargaCifrado():\n",
        "    archivo = open('textoCifrado.txt', 'r')\n",
        "    renglon = archivo.readline()\n",
        "    archivo.close()\n",
        "    return renglon\n",
        "\n",
        "#Se crea un arreglo donde se coloca el alfabeto y se crea una llave con la cantidad de caracteres del arreglo\n",
        "def cifraCesar(llave, cad):\n",
        "    alfabeto = \"abcdefghijklmnopqrstuvwxyz\"\n",
        "    cifrado = \"\"\n",
        "    for c in cad:\n",
        "        if (c in alfabeto):\n",
        "            pos = alfabeto.find(c)\n",
        "            cifrado = cifrado + alfabeto [((pos+llave) %26)]\n",
        "        else:\n",
        "            cifrado + c\n",
        "    return cifrado \n",
        "\n",
        "#Se carga el archivo que se utilizara para descifrar y enseguida se manda cerrar con un split que sireve para separar las palabras de la cadena.\n",
        "def cargadic():\n",
        "    arch = open(\"words.txt\", \"r\")\n",
        "    texto = arch.readline()\n",
        "    arch.close()\n",
        "    dic1 = texto.split()\n",
        "    return dic1\n",
        " \n",
        "#Se crea la función para descifrar y en caso de que sea incorrecto se manda otra orden\n",
        "def descifradoCesar(cad, llave):\n",
        "    alfabeto = \"abcdefghijklmnopqrstuvwxyz\"\n",
        "    descifrado = \"\"\n",
        "    for c in cad: \n",
        "        if (c in alfabeto):\n",
        "            pos = alfabeto.find(c)\n",
        "            descifrado = descifrado + alfabeto [((pos-llave) %26)]\n",
        "        else: \n",
        "            descifrado = descifrado + c \n",
        "    return descifrado\n",
        "\n",
        "#Se crea la funcion para encontrar la\n",
        "def getAciertos(texto, dic):\n",
        "    alfabeto = \"abcdefghijklmnopqrstuvwxyz\"\n",
        "    aciertos = \" \"\n",
        "    lista = texto.split()\n",
        "    for e in lista:\n",
        "        if (e in dic):\n",
        "            aciertos += str(1)\n",
        "        return aciertos\n",
        "\n",
        "#Funcion que devuelve el valor de la mejor llave.\n",
        "def mejorLlave(texto):\n",
        "    maxAciertos = \"\"\n",
        "    mejorKey = \"\"\n",
        "    dic = cargadic()\n",
        "    cifrado = texto.split()\n",
        "    for e in cifrado:\n",
        "        for x in range (26):\n",
        "            prueba = descifradoCesar(e, x)\n",
        "            puntaje = getAciertos(prueba, dic)\n",
        "            if (puntaje > maxAciertos):\n",
        "                maxAciertos = puntaje\n",
        "                mejorKey = x\n",
        "    return mejorKey\n",
        "\n",
        "#Funcion que sirve para descifrar el codigo con la mejor llave\n",
        "def cesarFinal(texto):\n",
        "    key = mejorLlave(texto)\n",
        "    print(key)\n",
        "    print(descifradoCesar(texto, key))\n",
        "   \n"
      ]
    },
    {
      "cell_type": "code",
      "source": [
        "ej = cargaCifrado()\n",
        "cesarFinal(ej)"
      ],
      "metadata": {
        "colab": {
          "base_uri": "https://localhost:8080/"
        },
        "id": "DByhg_gj4cqm",
        "outputId": "dad4a5cd-fcdb-4ed9-f7e2-c4b1a2c8b4f6"
      },
      "execution_count": 48,
      "outputs": [
        {
          "output_type": "stream",
          "name": "stdout",
          "text": [
            "18\n",
            "i have learned that people will forget what you said, people will forget what you did, but people will never forget how you made them feel. - maya angelou.  i attribute my success to this: i never gave or took any excuse. �florence nightingale.  the best time to plant a tree was 20 years ago. the second best time is now. �chinese proverb. i am not a product of my circumstances. i am a product of my decisions. �stephen covey. change your thoughts and you change your world. �norman vincent peale\n"
          ]
        }
      ]
    }
  ]
}